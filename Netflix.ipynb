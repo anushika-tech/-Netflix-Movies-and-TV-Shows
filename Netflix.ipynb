{
 "cells": [
  {
   "cell_type": "code",
   "execution_count": 15,
   "id": "58ffba1b-cfae-4a0f-b4c2-992ea6df121e",
   "metadata": {},
   "outputs": [
    {
     "name": "stdout",
     "output_type": "stream",
     "text": [
      "(2656, 12)\n"
     ]
    }
   ],
   "source": [
    "import pandas as pd\n",
    "\n",
    "df = pd.read_csv(\n",
    "    \"netflix_titles.csv\",\n",
    "    encoding=\"utf-8\",\n",
    "    engine=\"python\",\n",
    "    on_bad_lines=\"skip\"   # skip broken lines\n",
    ")\n",
    "\n",
    "print(df.shape)\n"
   ]
  },
  {
   "cell_type": "code",
   "execution_count": 16,
   "id": "795357db-6cee-4c07-9132-ad4b4fa1cb69",
   "metadata": {},
   "outputs": [
    {
     "name": "stdout",
     "output_type": "stream",
     "text": [
      "Initial Shape: (2656, 12)\n",
      "<class 'pandas.core.frame.DataFrame'>\n",
      "RangeIndex: 2656 entries, 0 to 2655\n",
      "Data columns (total 12 columns):\n",
      " #   Column        Non-Null Count  Dtype \n",
      "---  ------        --------------  ----- \n",
      " 0   show_id       2656 non-null   object\n",
      " 1   type          2656 non-null   object\n",
      " 2   title         2656 non-null   object\n",
      " 3   director      1795 non-null   object\n",
      " 4   cast          2396 non-null   object\n",
      " 5   country       2224 non-null   object\n",
      " 6   date_added    2656 non-null   object\n",
      " 7   release_year  2656 non-null   int64 \n",
      " 8   rating        2656 non-null   object\n",
      " 9   duration      2656 non-null   object\n",
      " 10  listed_in     2656 non-null   object\n",
      " 11  description   2656 non-null   object\n",
      "dtypes: int64(1), object(11)\n",
      "memory usage: 249.1+ KB\n",
      "None\n",
      "show_id           0\n",
      "type              0\n",
      "title             0\n",
      "director        861\n",
      "cast            260\n",
      "country         432\n",
      "date_added        0\n",
      "release_year      0\n",
      "rating            0\n",
      "duration          0\n",
      "listed_in         0\n",
      "description       0\n",
      "dtype: int64\n",
      "✅ Cleaned dataset saved as netflix_titles_cleaned.csv\n",
      "Final Shape: (2656, 12)\n"
     ]
    }
   ],
   "source": [
    "print(\"Initial Shape:\", df.shape)\n",
    "print(df.info())\n",
    "print(df.isnull().sum())\n",
    "\n",
    "df['country'] = df['country'].fillna(\"Unknown\")\n",
    "\n",
    "df['date_added'] = df['date_added'].fillna(df['date_added'].mode()[0])\n",
    "\n",
    "df['rating'] = df['rating'].fillna(\"Not Rated\")\n",
    "\n",
    "df = df.drop_duplicates()\n",
    "df.columns = df.columns.str.strip().str.lower().str.replace(\" \", \"_\")\n",
    "df['date_added'] = pd.to_datetime(df['date_added'])\n",
    "df['release_year'] = df['release_year'].astype(int)\n",
    "\n",
    "df['type'] = df['type'].str.strip().str.capitalize()\n",
    "df['country'] = df['country'].str.strip().str.title()\n",
    "\n",
    "\n",
    "df.to_csv(\"netflix_titles_cleaned.csv\", index=False)\n",
    "print(\"✅ Cleaned dataset saved as netflix_titles_cleaned.csv\")\n",
    "print(\"Final Shape:\", df.shape)"
   ]
  },
  {
   "cell_type": "code",
   "execution_count": null,
   "id": "2ea8916e-cce8-48c0-97a8-54bd1ddbc67b",
   "metadata": {},
   "outputs": [],
   "source": []
  },
  {
   "cell_type": "code",
   "execution_count": null,
   "id": "7224ee9f-6dbc-4607-9044-efcbe160539d",
   "metadata": {},
   "outputs": [],
   "source": []
  }
 ],
 "metadata": {
  "kernelspec": {
   "display_name": "Python [conda env:base] *",
   "language": "python",
   "name": "conda-base-py"
  },
  "language_info": {
   "codemirror_mode": {
    "name": "ipython",
    "version": 3
   },
   "file_extension": ".py",
   "mimetype": "text/x-python",
   "name": "python",
   "nbconvert_exporter": "python",
   "pygments_lexer": "ipython3",
   "version": "3.13.5"
  }
 },
 "nbformat": 4,
 "nbformat_minor": 5
}
